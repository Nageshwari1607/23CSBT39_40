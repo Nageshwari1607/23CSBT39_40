{
  "nbformat": 4,
  "nbformat_minor": 0,
  "metadata": {
    "colab": {
      "provenance": [],
      "authorship_tag": "ABX9TyOytyroHrVcpc3nHrTr+tgN",
      "include_colab_link": true
    },
    "kernelspec": {
      "name": "python3",
      "display_name": "Python 3"
    },
    "language_info": {
      "name": "python"
    }
  },
  "cells": [
    {
      "cell_type": "markdown",
      "metadata": {
        "id": "view-in-github",
        "colab_type": "text"
      },
      "source": [
        "<a href=\"https://colab.research.google.com/github/Nageshwari1607/23CSBT39_40/blob/main/assignment4.ipynb\" target=\"_parent\"><img src=\"https://colab.research.google.com/assets/colab-badge.svg\" alt=\"Open In Colab\"/></a>"
      ]
    },
    {
      "cell_type": "code",
      "execution_count": 5,
      "metadata": {
        "id": "N2deyPbpeJzM"
      },
      "outputs": [],
      "source": [
        "import collections\n",
        "import random\n",
        "import math\n",
        "import functools\n",
        "class TicTacToe(Game):\n",
        "    def _init_(self): #Fixed typo here\n",
        "        self.initial = {'board': [None] * 9, 'to_move': 'X'}\n",
        "\n",
        "    def actions(self, state):\n",
        "        \"\"\"Return a list of available moves (empty spots on the board).\"\"\"\n",
        "        return [i for i, spot in enumerate(state['board']) if spot is None]\n",
        "\n",
        "    def result(self, state, move):\n",
        "        \"\"\"Return the state that results from making a move.\"\"\"\n",
        "        new_board = state['board'][:]\n",
        "        new_board[move] = state['to_move']\n",
        "        return {\n",
        "            'board': new_board,\n",
        "            'to_move': 'O' if state['to_move'] == 'X' else 'X'\n",
        "        }\n",
        "\n",
        "    def is_terminal(self, state):\n",
        "        \"\"\"Return True if the game is over (win or draw).\"\"\"\n",
        "        return self.winner(state) is not None or not self.actions(state)\n",
        "\n",
        "    def utility(self, state, player):\n",
        "        \"\"\"Return the value of this final state to player.\"\"\"\n",
        "        winner = self.winner(state)\n",
        "        if winner == player:\n",
        "            return 1  # Win\n",
        "        elif winner is None:\n",
        "            return 0  # Draw\n",
        "        else:\n",
        "            return -1  # Loss\n",
        "\n",
        "    def winner(self, state):\n",
        "        \"\"\"Check if there's a winner.\"\"\"\n",
        "        board = state['board']\n",
        "        winning_combinations = [\n",
        "            (0, 1, 2), (3, 4, 5), (6, 7, 8),  # rows\n",
        "            (0, 3, 6), (1, 4, 7), (2, 5, 8),  # columns\n",
        "            (0, 4, 8), (2, 4, 6)  # diagonals\n",
        "        ]\n",
        "        for (i, j, k) in winning_combinations:\n",
        "            if board[i] is not None and board[i] == board[j] == board[k]:\n",
        "                return board[i]\n",
        "        return None"
      ]
    },
    {
      "cell_type": "code",
      "source": [
        "class Game:\n",
        "    def actions(self, state ):\n",
        "        \"\"\"Return a collection of the allowable moves from this state .\"\"\"\n",
        "        raise NotImplementedError\n",
        "    def result(self, state , move ):\n",
        "        \"\"\"Return the state that results from making a move from a state.\"\"\"\n",
        "        raise NotImplementedError\n",
        "def is_terminal (self, state ):\n",
        "        \"\"\"Return True if this is a final state for the game.\"\"\"\n",
        "        return not self.actions(state)\n",
        "def utility(self, state, player):\n",
        "    \"\"\"Return the value of this final state to player .\"\"\"\n",
        "    pass\n",
        "    raise NotImplementedError"
      ],
      "metadata": {
        "id": "Qwrs8J90ew75"
      },
      "execution_count": 6,
      "outputs": []
    },
    {
      "cell_type": "code",
      "source": [
        "def play_game(game, strategies: dict, verbose=False):\n",
        "    \"\"\"Play a turn-taking game. 'strategies' is a {player name: function} dict,\n",
        "    where function(state, game) is used to get the player's move.\"\"\"\n",
        "    state = game.initial\n",
        "    while not game.is_terminal(state):\n",
        "      player = state.to_move\n",
        "      move = strategies[player](game, state)\n",
        "      state = game.result(state , move)\n",
        "      if verbose:\n",
        "          print('Player', player , 'move:', move)\n",
        "          print(state)\n",
        "      return state"
      ],
      "metadata": {
        "id": "OU_e60kme4S7"
      },
      "execution_count": 7,
      "outputs": []
    },
    {
      "cell_type": "code",
      "source": [
        "def minimax_search (game , state ):\n",
        "    \"\"\"Search game tree to determine best move; return (value , move) pair .\"\"\"\n",
        "    player = state.to_move\n",
        "    def max_value (state ):\n",
        "        if game.is_terminal(state):\n",
        "            return game.utility(state, player), None\n",
        "        v, move = -float('inf'), None\n",
        "        for a in game.actions(state):\n",
        "            v2, _ = min_value(game.result(state, a))\n",
        "            if v2 > v:\n",
        "                v, move = v2 , a\n",
        "        return v, move\n",
        "    def min_value (state ):\n",
        "        if game. is_terminal (state ):\n",
        "            return game.utility(state , player), None\n",
        "        v, move = +infinity , None\n",
        "        for a in game.actions(state ):\n",
        "            v2 , = max_value (game.result(state , a))\n",
        "            if v2 < v:\n",
        "                v, move = v2 , a\n",
        "        return v, move\n",
        "    return max_value (state)\n",
        "infinity = math.inf"
      ],
      "metadata": {
        "id": "pck6tWmne-9l"
      },
      "execution_count": 8,
      "outputs": []
    },
    {
      "cell_type": "code",
      "source": [
        "def alphabeta_search (game , state ):\n",
        "  \"\"\"Search game to determine best action ; use alpha−beta pruning.\n",
        "  Search all the way to the leaves .\"\"\"\n",
        "  player = state. to_move\n",
        "  def max_value (state , alpha , beta ):\n",
        "    if game.is_terminal (state ):\n",
        "      return game.utility(state , player), None\n",
        "    v, move = -infinity , None\n",
        "    for a in game.actions(state ):\n",
        "      v2 , = min_value (game.result(state , a), alpha , beta)\n",
        "      if v2 > v:\n",
        "        v, move = v2 , a\n",
        "        alpha = max(alpha , v)\n",
        "        if v >= beta:\n",
        "          return v, move\n",
        "    return v, move\n",
        "  def min_value (state , alpha , beta ):\n",
        "    if game. is_terminal (state ):\n",
        "      return game.utility(state , player), None\n",
        "    v, move = +infinity , None\n",
        "    for a in game.actions(state ):\n",
        "      v2 , = max_value (game.result(state , a), alpha , beta)\n",
        "      if v2 < v:\n",
        "        v, move = v2 , a\n",
        "        beta = min(beta , v)\n",
        "        if v <= alpha:\n",
        "          return v, move\n",
        "    return v, move\n",
        "  return max_value (state , -infinity , +infinity )"
      ],
      "metadata": {
        "id": "uphd6bnEjmQm"
      },
      "execution_count": 9,
      "outputs": []
    },
    {
      "cell_type": "code",
      "source": [
        "class TicTacToe (Game ):\n",
        "    \"\"\"Play TicTacToe on an ‘height ‘ by ‘width‘ board, needing ‘k ‘ in a row to win.\n",
        "    ’X’ plays first against ’O’ .\"\"\"\n",
        "    def _init_(self, height =3, width =3, k=3): # added __ to make it a constructor\n",
        "        self.k = k # k in a row\n",
        "        self.squares = {(x, y) for x in range(width) for y in range(height)}\n",
        "        self.initial = Board(height=height , width=width , to_move ='X', utility =0)\n",
        "    def actions(self, board):\n",
        "        \"\"\"Legal moves are any square not yet taken.\"\"\"\n",
        "        return self.squares - set(board)\n",
        "\n",
        "    def result(self, board, square):\n",
        "        \"\"\"Place a marker for current player on square.\"\"\"\n",
        "        #pass # Replace with actual implementation\n",
        "        player = board.to_move\n",
        "        board = board.new({square: player}, to_move = ('O' if player == 'X' else 'X'))\n",
        "        win = self.k_in_row(board, player, square, self.k) # calling k_in_row from self\n",
        "        board.utility = (0 if not win else +1 if player == 'X' else -1)\n",
        "        return board # added return statement\n",
        "    def utility(self, board , player ):\n",
        "        \"\"\"Return the value to player ; 1 for win, −1 for loss , 0 otherwise .\"\"\"\n",
        "        return board.utility if player == 'X' else -board.utility\n",
        "    def is_terminal (self, board ):\n",
        "        \"\"\"A board is a terminal state if it is won or there are no empty squares.\"\"\"\n",
        "        return board.utility != 0 or len(self.squares) == len(board)\n",
        "    def display(self, board ):\n",
        "        print(board) # indented this line\n",
        "    def k_in_row (self, board , player , square , k): # added self\n",
        "        \"\"\"True if player has k pieces in a line through square.\"\"\"\n",
        "        def in_row (x, y, dx , dy):\n",
        "            return 0 if board[x, y] != player else 1 + in_row (x + dx , y + dy , dx , dy)\n",
        "        return any(in_row(*square , dx , dy) + in_row(*square , -dx , -dy)-1 >= k\n",
        "                   for (dx , dy) in ((0, 1), (1, 0), (1, 1), (1, -1)))"
      ],
      "metadata": {
        "id": "NOn11gKmjqP5"
      },
      "execution_count": 10,
      "outputs": []
    }
  ]
}